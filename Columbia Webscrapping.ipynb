{
 "cells": [
  {
   "cell_type": "markdown",
   "id": "d3d44045",
   "metadata": {},
   "source": [
    "<div style=\"text-align: center; background-color: #0063BA; padding: 10px;\">\n",
    "    <h1 style=\"color: #ffffff;\">Columbia Webscrapping</h1>\n",
    "</div>"
   ]
  },
  {
   "cell_type": "markdown",
   "id": "0dd1bdcd",
   "metadata": {},
   "source": [
    "* Table1.csv: ShoeName ,Category(Men/Women), no.of colors,price\n",
    "\n",
    "* Table2.csv: count of sizes, colors 1, color 2, color3 ,color4, color5, Style code/product code\n",
    "\n",
    "* Table3.csv: reviews, Size, comfort, durability /quality/performance(quantification), star rating"
   ]
  },
  {
   "cell_type": "code",
   "execution_count": 1,
   "id": "801c3413",
   "metadata": {},
   "outputs": [],
   "source": [
    "# Importing Libraries\n",
    "import pandas as pd\n",
    "import selenium          \n",
    "from bs4 import BeautifulSoup\n",
    "from selenium import webdriver\n",
    "from selenium.webdriver.common.by import By\n",
    "from selenium.webdriver.support.ui import WebDriverWait\n",
    "from selenium.webdriver.support import expected_conditions as EC\n",
    "from selenium.webdriver.common.action_chains import ActionChains\n",
    "from selenium.webdriver.common.keys import Keys\n",
    "\n",
    "import warnings                                  \n",
    "warnings.filterwarnings(\"ignore\")\n",
    "\n",
    "import time                                      \n",
    "from webdriver_manager.chrome import ChromeDriverManager\n",
    "from selenium.webdriver.chrome.service import Service\n",
    "\n",
    "#Importing required exceptions which needs to be handled\n",
    "from selenium.common.exceptions import StaleElementReferenceException, NoSuchElementException, TimeoutException\n",
    "\n",
    "# Let's Install automated chrome browser and connect it to web driver\n",
    "driver = webdriver.Chrome(service=Service())\n",
    "\n",
    "#maximise the window\n",
    "driver.maximize_window()"
   ]
  },
  {
   "cell_type": "code",
   "execution_count": 2,
   "id": "e6b7a8ca",
   "metadata": {},
   "outputs": [],
   "source": [
    "#opening the website page\n",
    "driver.get(\"https://www.columbia.com/\")"
   ]
  },
  {
   "cell_type": "code",
   "execution_count": 3,
   "id": "2d273c97",
   "metadata": {},
   "outputs": [],
   "source": [
    "location = driver.find_element(By.XPATH,'//div[@class=\"col-10 col-md-4 col-lg-3 offset-xl-1\"][1]/div[1]')\n",
    "location.click()"
   ]
  },
  {
   "cell_type": "code",
   "execution_count": 4,
   "id": "ed69d873",
   "metadata": {},
   "outputs": [],
   "source": [
    "# Identify the element you want to hover over\n",
    "hover_men = driver.find_element(By.XPATH,'//ul[@class=\"megamenu slide\"]/li[2]/a')\n",
    "hover_men.click()"
   ]
  },
  {
   "cell_type": "code",
   "execution_count": 5,
   "id": "a1ca27bb",
   "metadata": {},
   "outputs": [],
   "source": [
    "men_footwear = driver.find_element(By.XPATH,'//div[@id=\"category69468\"]/ul/li[4]/a')\n",
    "men_footwear.click()"
   ]
  },
  {
   "cell_type": "code",
   "execution_count": 6,
   "id": "a147fcfa",
   "metadata": {},
   "outputs": [],
   "source": [
    "#Filter gender\n",
    "gender =driver.find_element(By.XPATH,'//a[@class=\"list-group-item filter-name gender  \"]')\n",
    "gender.click()"
   ]
  },
  {
   "cell_type": "code",
   "execution_count": 7,
   "id": "82770669",
   "metadata": {},
   "outputs": [],
   "source": [
    "#Checkbox tick\n",
    "gen_men =driver.find_element(By.XPATH,'//input[@id=\"genderMen\"]')\n",
    "gen_men.click()"
   ]
  },
  {
   "cell_type": "code",
   "execution_count": 8,
   "id": "74e1843d",
   "metadata": {},
   "outputs": [],
   "source": [
    "## Get the initial height of the page\n",
    "last_height = driver.execute_script(\"return document.body.scrollHeight\")\n",
    "\n",
    "product_url = []\n",
    "\n",
    "while True:\n",
    "    # Scroll down to the bottom\n",
    "    driver.execute_script(\"window.scrollTo(0, document.body.scrollHeight);\")\n",
    "\n",
    "    # Wait for some time to let the content load\n",
    "    time.sleep(5)\n",
    "\n",
    "    # Get the new height of the page\n",
    "    new_height = driver.execute_script(\"return document.body.scrollHeight\")\n",
    "\n",
    "    # Break the loop if you have reached the bottom of the page\n",
    "    if new_height == last_height:\n",
    "        break\n",
    "\n",
    "    # Update the last height\n",
    "    last_height = new_height\n",
    "    \n",
    "# Extract details\n",
    "urls = driver.find_elements(By.XPATH, '//div[@class=\"image image-swap-effect\"]/a')\n",
    "for i in urls:\n",
    "    product_url.append(i.get_attribute('href'))"
   ]
  },
  {
   "cell_type": "code",
   "execution_count": 9,
   "id": "d8b0b3d4",
   "metadata": {},
   "outputs": [
    {
     "data": {
      "text/plain": [
       "65"
      ]
     },
     "execution_count": 9,
     "metadata": {},
     "output_type": "execute_result"
    }
   ],
   "source": [
    "len(product_url)"
   ]
  },
  {
   "cell_type": "code",
   "execution_count": 10,
   "id": "c9cd5a59",
   "metadata": {},
   "outputs": [],
   "source": [
    "# Execute JavaScript to scroll up to the body height\n",
    "driver.execute_script(\"window.scrollTo(0, 0);\")"
   ]
  },
  {
   "cell_type": "code",
   "execution_count": 11,
   "id": "f1ecbadf",
   "metadata": {},
   "outputs": [],
   "source": [
    "# Identify the element you want to hover over\n",
    "hover_women = driver.find_element(By.XPATH,'//ul[@class=\"megamenu slide\"]/li[3]/a')\n",
    "hover_women.click()"
   ]
  },
  {
   "cell_type": "code",
   "execution_count": 12,
   "id": "c595439a",
   "metadata": {},
   "outputs": [],
   "source": [
    "women_footwear = driver.find_element(By.XPATH,'//div[@id=\"category69469\"]/ul/li[4]/a')\n",
    "women_footwear.click()"
   ]
  },
  {
   "cell_type": "code",
   "execution_count": 13,
   "id": "5d69e5dd",
   "metadata": {},
   "outputs": [],
   "source": [
    "#Filter gender\n",
    "gender =driver.find_element(By.XPATH,'//a[@class=\"list-group-item filter-name gender  \"]')\n",
    "gender.click()"
   ]
  },
  {
   "cell_type": "code",
   "execution_count": 14,
   "id": "ad7ebe86",
   "metadata": {},
   "outputs": [],
   "source": [
    "#Checkbox tick\n",
    "gen_women =driver.find_element(By.XPATH,'//input[@id=\"genderWomen\"]')\n",
    "gen_women.click()"
   ]
  },
  {
   "cell_type": "code",
   "execution_count": 15,
   "id": "26803965",
   "metadata": {},
   "outputs": [],
   "source": [
    "## Get the initial height of the page\n",
    "last_height = driver.execute_script(\"return document.body.scrollHeight\")\n",
    "\n",
    "product_url1 = []\n",
    "\n",
    "while True:\n",
    "    # Scroll down to the bottom\n",
    "    driver.execute_script(\"window.scrollTo(0, document.body.scrollHeight);\")\n",
    "\n",
    "    # Wait for some time to let the content load\n",
    "    time.sleep(2)\n",
    "\n",
    "    # Get the new height of the page\n",
    "    new_height = driver.execute_script(\"return document.body.scrollHeight\")\n",
    "\n",
    "    # Break the loop if you have reached the bottom of the page\n",
    "    if new_height == last_height:\n",
    "        break\n",
    "\n",
    "    # Update the last height\n",
    "    last_height = new_height\n",
    "    \n",
    "# Extract details\n",
    "urls = driver.find_elements(By.XPATH, '//div[@class=\"image image-swap-effect\"]/a')\n",
    "for i in urls:\n",
    "    product_url1.append(i.get_attribute('href'))"
   ]
  },
  {
   "cell_type": "code",
   "execution_count": 16,
   "id": "ec0b78ac",
   "metadata": {},
   "outputs": [
    {
     "data": {
      "text/plain": [
       "55"
      ]
     },
     "execution_count": 16,
     "metadata": {},
     "output_type": "execute_result"
    }
   ],
   "source": [
    "len(product_url1)"
   ]
  },
  {
   "cell_type": "code",
   "execution_count": 24,
   "id": "0c6133cd",
   "metadata": {},
   "outputs": [],
   "source": [
    "product_urls= product_url + product_url1"
   ]
  },
  {
   "cell_type": "code",
   "execution_count": 25,
   "id": "b86b0135",
   "metadata": {},
   "outputs": [
    {
     "data": {
      "text/plain": [
       "120"
      ]
     },
     "execution_count": 25,
     "metadata": {},
     "output_type": "execute_result"
    }
   ],
   "source": [
    "len(product_urls)"
   ]
  },
  {
   "cell_type": "code",
   "execution_count": 28,
   "id": "a487aaff",
   "metadata": {},
   "outputs": [
    {
     "name": "stdout",
     "output_type": "stream",
     "text": [
      "248\n"
     ]
    }
   ],
   "source": [
    "# Extracting All The urls\n",
    "new_urls =[]\n",
    "\n",
    "for product in product_urls:\n",
    "    driver.get(product)\n",
    "    time.sleep(2)\n",
    "    \n",
    "    #Extracting number urls of those colors\n",
    "    try:\n",
    "        colours = driver.find_element(By.XPATH,'//div[@class=\"grop-product-product\"]')\n",
    "        new_urls.extend([element.get_attribute('href') for element in colours.find_elements(By.TAG_NAME, 'a')])\n",
    "        \n",
    "    except NoSuchElementException:\n",
    "        new_urls.append('NA')\n",
    "        \n",
    "print(len(new_urls))"
   ]
  },
  {
   "cell_type": "code",
   "execution_count": 29,
   "id": "5cbfe86b",
   "metadata": {},
   "outputs": [
    {
     "data": {
      "text/plain": [
       "['https://columbiasportswear.co.in/trailstorm-peak-mid-bm5578-005',\n",
       " 'https://columbiasportswear.co.in/trailstorm-peak-mid-bm5578-231',\n",
       " 'NA',\n",
       " 'https://columbiasportswear.co.in/columbia-vent-aero-bm0159-010',\n",
       " 'https://columbiasportswear.co.in/columbia-vent-aero-bm0159-468',\n",
       " 'https://columbiasportswear.co.in/columbia-vent-aero-bm0159-010',\n",
       " 'https://columbiasportswear.co.in/columbia-vent-aero-bm0159-468',\n",
       " 'NA',\n",
       " 'https://columbiasportswear.co.in/crestwood-waterproof-bm5372-241',\n",
       " 'https://columbiasportswear.co.in/columbia-men-grey-crestwood-waterproof-bm5372-053',\n",
       " 'https://columbiasportswear.co.in/columbia-men-brown-crestwood-waterproof-bm5372-255',\n",
       " 'https://columbiasportswear.co.in/columbia-men-brown-plateau-venture-bm7536-255',\n",
       " 'https://columbiasportswear.co.in/columbia-men-brown-plateau-venture-bm7536-213',\n",
       " 'https://columbiasportswear.co.in/crestwood-mid-waterproof-bm5371-020',\n",
       " 'https://columbiasportswear.co.in/crestwood-mid-waterproof-bm5371-231',\n",
       " 'https://columbiasportswear.co.in/columbia-men-green-crestwood-mid-waterproof-bm5371-384',\n",
       " 'https://columbiasportswear.co.in/columbia-men-blue-crestwood-mid-waterproof-bm5371-468',\n",
       " 'https://columbiasportswear.co.in/crestwood-waterproof-bm5372-241',\n",
       " 'https://columbiasportswear.co.in/columbia-men-grey-crestwood-waterproof-bm5372-053',\n",
       " 'https://columbiasportswear.co.in/columbia-men-brown-crestwood-waterproof-bm5372-255',\n",
       " 'https://columbiasportswear.co.in/columbia-men-brown-plateau-venture-bm7536-255',\n",
       " 'https://columbiasportswear.co.in/columbia-men-brown-plateau-venture-bm7536-213',\n",
       " 'https://columbiasportswear.co.in/crestwood-mid-waterproof-bm5371-020',\n",
       " 'https://columbiasportswear.co.in/crestwood-mid-waterproof-bm5371-231',\n",
       " 'https://columbiasportswear.co.in/columbia-men-green-crestwood-mid-waterproof-bm5371-384',\n",
       " 'https://columbiasportswear.co.in/columbia-men-blue-crestwood-mid-waterproof-bm5371-468',\n",
       " 'https://columbiasportswear.co.in/crestwood-waterproof-bm5372-241',\n",
       " 'https://columbiasportswear.co.in/columbia-men-grey-crestwood-waterproof-bm5372-053',\n",
       " 'https://columbiasportswear.co.in/columbia-men-brown-crestwood-waterproof-bm5372-255',\n",
       " 'https://columbiasportswear.co.in/columbia-men-black-hood-river-slide-bm0166-010',\n",
       " 'https://columbiasportswear.co.in/columbia-men-blue-hood-river-slide-bm0166-441',\n",
       " 'https://columbiasportswear.co.in/columbia-men-black-breaksider-sandal-bm0486-010',\n",
       " 'https://columbiasportswear.co.in/columbia-men-green-breaksider-sandal-bm0486-302',\n",
       " 'https://columbiasportswear.co.in/columbia-men-grey-re-peak-mid-bm6940-089',\n",
       " 'https://columbiasportswear.co.in/columbia-men-brown-re-peak-mid-bm6940-247',\n",
       " 'NA',\n",
       " 'https://columbiasportswear.co.in/peakfreak-ii-outdry-bm5953-012',\n",
       " 'https://columbiasportswear.co.in/columbia-men-brown-peakfreak-ii-outdry-bm5953-247',\n",
       " 'https://columbiasportswear.co.in/columbia-men-green-hatana-max-outdry-bm0659-317',\n",
       " 'https://columbiasportswear.co.in/columbia-men-black-hatana-max-outdry-bm0659-010',\n",
       " 'https://columbiasportswear.co.in/redmond-v2-wp-bm0834-255',\n",
       " 'https://columbiasportswear.co.in/columbia-men-black-trailstorm-hiker-3-strap-bm8210-005',\n",
       " 'https://columbiasportswear.co.in/columbia-men-brown-trailstorm-hiker-3-strap-bm8210-231',\n",
       " 'https://columbiasportswear.co.in/columbia-men-brown-columbia-2-strap-bm0111-231',\n",
       " 'https://columbiasportswear.co.in/columbia-men-green-columbia-2-strap-bm0111-339',\n",
       " 'https://columbiasportswear.co.in/columbia-men-brown-hatana-breathe-bm7444-227',\n",
       " 'https://columbiasportswear.co.in/columbia-men-green-hatana-breathe-bm7444-383',\n",
       " 'https://columbiasportswear.co.in/columbia-men-brown-columbia-2-strap-bm0111-231',\n",
       " 'https://columbiasportswear.co.in/columbia-men-green-columbia-2-strap-bm0111-339',\n",
       " 'https://columbiasportswear.co.in/thrive-revive-bm8043-010',\n",
       " 'https://columbiasportswear.co.in/thrive-revive-bm8043-278',\n",
       " 'https://columbiasportswear.co.in/thrive-revive-bm8043-302',\n",
       " 'https://columbiasportswear.co.in/columbia-men-black-breaksider-sandal-bm0486-010',\n",
       " 'https://columbiasportswear.co.in/columbia-men-green-breaksider-sandal-bm0486-302',\n",
       " 'https://columbiasportswear.co.in/columbia-men-brown-hatana-breathe-bm7444-227',\n",
       " 'https://columbiasportswear.co.in/columbia-men-green-hatana-breathe-bm7444-383',\n",
       " 'https://columbiasportswear.co.in/columbia-men-black-hood-river-slide-bm0166-010',\n",
       " 'https://columbiasportswear.co.in/columbia-men-blue-hood-river-slide-bm0166-441',\n",
       " 'https://columbiasportswear.co.in/facet-60-outdry-bm3530-010',\n",
       " 'https://columbiasportswear.co.in/facet-60-outdry-bm3530-089',\n",
       " 'https://columbiasportswear.co.in/facet-60-outdry-bm3530-858',\n",
       " 'https://columbiasportswear.co.in/peakfreak-x2-outdry-bm0829-053',\n",
       " 'https://columbiasportswear.co.in/peakfreak-x2-outdry-bm0829-439',\n",
       " 'https://columbiasportswear.co.in/thrive-revive-bm8043-010',\n",
       " 'https://columbiasportswear.co.in/thrive-revive-bm8043-278',\n",
       " 'https://columbiasportswear.co.in/thrive-revive-bm8043-302',\n",
       " 'https://columbiasportswear.co.in/columbia-men-black-strata-trail-mid-wp-ym8651-010',\n",
       " 'https://columbiasportswear.co.in/peakfreak-x2-outdry-bm0829-053',\n",
       " 'https://columbiasportswear.co.in/peakfreak-x2-outdry-bm0829-439',\n",
       " 'NA',\n",
       " 'https://columbiasportswear.co.in/trailstorm-waterproof-bm0156-010',\n",
       " 'https://columbiasportswear.co.in/trailstorm-waterproof-bm0156-367',\n",
       " 'https://columbiasportswear.co.in/trailstorm-waterproof-bm0156-478',\n",
       " 'NA',\n",
       " 'https://columbiasportswear.co.in/trailstorm-mid-waterproof-bm0155-005',\n",
       " 'https://columbiasportswear.co.in/montrail-trinity-fkt-bm6578-010',\n",
       " 'https://columbiasportswear.co.in/montrail-trinity-fkt-bm6578-417',\n",
       " 'https://columbiasportswear.co.in/thrive-revive-bm8043-010',\n",
       " 'https://columbiasportswear.co.in/thrive-revive-bm8043-278',\n",
       " 'https://columbiasportswear.co.in/thrive-revive-bm8043-302',\n",
       " 'https://columbiasportswear.co.in/redmond-v2-mid-wp-bm0833-231',\n",
       " 'NA',\n",
       " 'https://columbiasportswear.co.in/facet-60-outdry-bm3530-010',\n",
       " 'https://columbiasportswear.co.in/facet-60-outdry-bm3530-089',\n",
       " 'https://columbiasportswear.co.in/facet-60-outdry-bm3530-858',\n",
       " 'https://columbiasportswear.co.in/facet-60-outdry-bm3530-010',\n",
       " 'https://columbiasportswear.co.in/facet-60-outdry-bm3530-089',\n",
       " 'https://columbiasportswear.co.in/facet-60-outdry-bm3530-858',\n",
       " 'NA',\n",
       " 'https://columbiasportswear.co.in/trailstorm-waterproof-bm0156-010',\n",
       " 'https://columbiasportswear.co.in/trailstorm-waterproof-bm0156-367',\n",
       " 'https://columbiasportswear.co.in/trailstorm-waterproof-bm0156-478',\n",
       " 'https://columbiasportswear.co.in/columbia-men-grey-re-peak-mid-bm6940-089',\n",
       " 'https://columbiasportswear.co.in/columbia-men-brown-re-peak-mid-bm6940-247',\n",
       " 'https://columbiasportswear.co.in/crestwood-mid-waterproof-bm5371-020',\n",
       " 'https://columbiasportswear.co.in/crestwood-mid-waterproof-bm5371-231',\n",
       " 'https://columbiasportswear.co.in/columbia-men-green-crestwood-mid-waterproof-bm5371-384',\n",
       " 'https://columbiasportswear.co.in/columbia-men-blue-crestwood-mid-waterproof-bm5371-468',\n",
       " 'NA',\n",
       " 'https://columbiasportswear.co.in/peakfreak-ii-mid-outdry-bm7573-089',\n",
       " 'https://columbiasportswear.co.in/columbia-men-green-peakfreak-ii-mid-outdry-bm7573-383',\n",
       " 'https://columbiasportswear.co.in/columbia-men-black-facet-75-mid-outdry-bm7615-010',\n",
       " 'https://columbiasportswear.co.in/columbia-men-green-facet-75-mid-outdry-bm7615-383',\n",
       " 'https://columbiasportswear.co.in/columbia-men-black-escape-thrive-endure-shoes-bm4980-010',\n",
       " 'https://columbiasportswear.co.in/columbia-men-black-trailstorm-hiker-3-strap-bm8210-005',\n",
       " 'https://columbiasportswear.co.in/columbia-men-brown-trailstorm-hiker-3-strap-bm8210-231',\n",
       " 'https://columbiasportswear.co.in/trailstorm-waterproof-bm0156-010',\n",
       " 'https://columbiasportswear.co.in/trailstorm-waterproof-bm0156-367',\n",
       " 'https://columbiasportswear.co.in/trailstorm-waterproof-bm0156-478',\n",
       " 'NA',\n",
       " 'https://columbiasportswear.co.in/montrail-trinity-fkt-bm6578-010',\n",
       " 'https://columbiasportswear.co.in/montrail-trinity-fkt-bm6578-417',\n",
       " 'https://columbiasportswear.co.in/columbia-men-green-facet-75-outdry-bm8538-383',\n",
       " 'https://columbiasportswear.co.in/columbia-men-grey-facet-75-outdry-bm8538-033',\n",
       " 'https://columbiasportswear.co.in/columbia-men-green-facet-75-outdry-bm8538-383',\n",
       " 'https://columbiasportswear.co.in/columbia-men-grey-facet-75-outdry-bm8538-033',\n",
       " 'https://columbiasportswear.co.in/columbia-men-black-facet-75-mid-outdry-bm7615-010',\n",
       " 'https://columbiasportswear.co.in/columbia-men-green-facet-75-mid-outdry-bm7615-383',\n",
       " 'NA',\n",
       " 'https://columbiasportswear.co.in/peakfreak-ii-mid-outdry-bm7573-089',\n",
       " 'https://columbiasportswear.co.in/columbia-men-green-peakfreak-ii-mid-outdry-bm7573-383',\n",
       " 'https://columbiasportswear.co.in/peakfreak-ii-outdry-bm5953-012',\n",
       " 'https://columbiasportswear.co.in/columbia-men-brown-peakfreak-ii-outdry-bm5953-247',\n",
       " 'https://columbiasportswear.co.in/crestwood-mid-waterproof-bm5371-020',\n",
       " 'https://columbiasportswear.co.in/crestwood-mid-waterproof-bm5371-231',\n",
       " 'https://columbiasportswear.co.in/columbia-men-green-crestwood-mid-waterproof-bm5371-384',\n",
       " 'https://columbiasportswear.co.in/columbia-men-blue-crestwood-mid-waterproof-bm5371-468',\n",
       " 'https://columbiasportswear.co.in/columbia-men-green-hatana-max-outdry-bm0659-317',\n",
       " 'https://columbiasportswear.co.in/columbia-men-black-hatana-max-outdry-bm0659-010',\n",
       " 'NA',\n",
       " 'https://columbiasportswear.co.in/expeditionist-boot-bm8525-010',\n",
       " 'https://columbiasportswear.co.in/trailstorm-peak-mid-bm5578-005',\n",
       " 'https://columbiasportswear.co.in/trailstorm-peak-mid-bm5578-231',\n",
       " 'NA',\n",
       " 'https://columbiasportswear.co.in/trailstorm-peak-mid-bl5578-010',\n",
       " 'https://columbiasportswear.co.in/trailstorm-peak-mid-bl5578-053',\n",
       " 'https://columbiasportswear.co.in/trailstorm-peak-mid-bl5578-010',\n",
       " 'https://columbiasportswear.co.in/trailstorm-peak-mid-bl5578-053',\n",
       " 'NA',\n",
       " 'https://columbiasportswear.co.in/columbia-vent-aero-bl0159-329',\n",
       " 'https://columbiasportswear.co.in/columbia-vent-aero-bl0159-010',\n",
       " 'https://columbiasportswear.co.in/columbia-vent-aero-bl0159-329',\n",
       " 'https://columbiasportswear.co.in/columbia-vent-aero-bl0159-010',\n",
       " 'https://columbiasportswear.co.in/columbia-women-black-minx-slip-iv-bl9797-010',\n",
       " 'https://columbiasportswear.co.in/columbia-women-white-minx-slip-iv-bl9797-125',\n",
       " 'NA',\n",
       " 'https://columbiasportswear.co.in/hatana-max-outdry-bl0659-012',\n",
       " 'https://columbiasportswear.co.in/hatana-max-outdry-bl0659-089',\n",
       " 'https://columbiasportswear.co.in/columbia-women-black-hatana-max-outdry-bl0659-010',\n",
       " 'https://columbiasportswear.co.in/columbia-women-brown-hatana-max-outdry-bl0659-271',\n",
       " 'https://columbiasportswear.co.in/peakfreak-ii-outdry-bl5953-012',\n",
       " 'https://columbiasportswear.co.in/peakfreak-ii-outdry-bl5953-036',\n",
       " 'https://columbiasportswear.co.in/columbia-women-black-peakfreak-ii-outdry-bl5953-005',\n",
       " 'https://columbiasportswear.co.in/columbia-women-blue-peakfreak-ii-outdry-bl5953-471',\n",
       " 'https://columbiasportswear.co.in/columbia-women-grey-hatana-breathe-bl7444-020',\n",
       " 'https://columbiasportswear.co.in/columbia-women-grey-hatana-breathe-bl7444-086',\n",
       " 'https://columbiasportswear.co.in/columbia-women-brown-plateau-venture-bl4497-247',\n",
       " 'https://columbiasportswear.co.in/columbia-women-purple-plateau-venture-bl4497-553',\n",
       " 'https://columbiasportswear.co.in/hatana-max-outdry-bl0659-012',\n",
       " 'https://columbiasportswear.co.in/hatana-max-outdry-bl0659-089',\n",
       " 'https://columbiasportswear.co.in/columbia-women-black-hatana-max-outdry-bl0659-010',\n",
       " 'https://columbiasportswear.co.in/columbia-women-brown-hatana-max-outdry-bl0659-271',\n",
       " 'https://columbiasportswear.co.in/columbia-women-grey-hatana-breathe-bl7444-020',\n",
       " 'https://columbiasportswear.co.in/columbia-women-grey-hatana-breathe-bl7444-086',\n",
       " 'https://columbiasportswear.co.in/columbia-women-black-re-peak-mid-bl6940-005',\n",
       " 'https://columbiasportswear.co.in/columbia-women-purple-re-peak-mid-bl6940-553',\n",
       " 'https://columbiasportswear.co.in/hatana-max-outdry-bl0659-012',\n",
       " 'https://columbiasportswear.co.in/hatana-max-outdry-bl0659-089',\n",
       " 'https://columbiasportswear.co.in/columbia-women-black-hatana-max-outdry-bl0659-010',\n",
       " 'https://columbiasportswear.co.in/columbia-women-brown-hatana-max-outdry-bl0659-271',\n",
       " 'https://columbiasportswear.co.in/peakfreak-ii-outdry-bl5953-012',\n",
       " 'https://columbiasportswear.co.in/peakfreak-ii-outdry-bl5953-036',\n",
       " 'https://columbiasportswear.co.in/columbia-women-black-peakfreak-ii-outdry-bl5953-005',\n",
       " 'https://columbiasportswear.co.in/columbia-women-blue-peakfreak-ii-outdry-bl5953-471',\n",
       " 'https://columbiasportswear.co.in/peakfreak-ii-outdry-bl5953-012',\n",
       " 'https://columbiasportswear.co.in/peakfreak-ii-outdry-bl5953-036',\n",
       " 'https://columbiasportswear.co.in/columbia-women-black-peakfreak-ii-outdry-bl5953-005',\n",
       " 'https://columbiasportswear.co.in/columbia-women-blue-peakfreak-ii-outdry-bl5953-471',\n",
       " 'https://columbiasportswear.co.in/columbia-women-grey-facet-75-mid-outdry-bl7615-088',\n",
       " 'https://columbiasportswear.co.in/columbia-women-purple-facet-75-mid-outdry-bl7615-553',\n",
       " 'NA',\n",
       " 'NA',\n",
       " 'https://columbiasportswear.co.in/columbia-women-black-minx-slip-iv-bl9797-010',\n",
       " 'https://columbiasportswear.co.in/columbia-women-white-minx-slip-iv-bl9797-125',\n",
       " 'NA',\n",
       " 'https://columbiasportswear.co.in/peakfreak-x2-outdry-bl0829-010',\n",
       " 'https://columbiasportswear.co.in/peakfreak-x2-outdry-bl0829-616',\n",
       " 'https://columbiasportswear.co.in/columbia-women-grey-facet-75-mid-outdry-bl7615-088',\n",
       " 'https://columbiasportswear.co.in/columbia-women-purple-facet-75-mid-outdry-bl7615-553',\n",
       " 'https://columbiasportswear.co.in/trailstorm-waterproof-bl0156-053',\n",
       " 'https://columbiasportswear.co.in/trailstorm-waterproof-bl0156-193',\n",
       " 'NA',\n",
       " 'https://columbiasportswear.co.in/columbia-women-brown-plateau-venture-bl4497-247',\n",
       " 'https://columbiasportswear.co.in/columbia-women-purple-plateau-venture-bl4497-553',\n",
       " 'https://columbiasportswear.co.in/trailstorm-mid-waterproof-bl0155-012',\n",
       " 'https://columbiasportswear.co.in/trailstorm-mid-waterproof-bl0155-053',\n",
       " 'https://columbiasportswear.co.in/trailstorm-mid-waterproof-bl0155-616',\n",
       " 'https://columbiasportswear.co.in/peakfreak-x2-outdry-bl0829-010',\n",
       " 'https://columbiasportswear.co.in/peakfreak-x2-outdry-bl0829-616',\n",
       " 'NA',\n",
       " 'NA',\n",
       " 'https://columbiasportswear.co.in/peakfreak-ii-mid-outdry-bl7573-089',\n",
       " 'https://columbiasportswear.co.in/columbia-women-black-peakfreak-ii-mid-outdry-bl7573-010',\n",
       " 'https://columbiasportswear.co.in/columbia-women-green-peakfreak-ii-mid-outdry-bl7573-302',\n",
       " 'https://columbiasportswear.co.in/peakfreak-ii-outdry-bl5953-012',\n",
       " 'https://columbiasportswear.co.in/peakfreak-ii-outdry-bl5953-036',\n",
       " 'https://columbiasportswear.co.in/columbia-women-black-peakfreak-ii-outdry-bl5953-005',\n",
       " 'https://columbiasportswear.co.in/columbia-women-blue-peakfreak-ii-outdry-bl5953-471',\n",
       " 'https://columbiasportswear.co.in/columbia-women-black-re-peak-mid-bl6940-005',\n",
       " 'https://columbiasportswear.co.in/columbia-women-purple-re-peak-mid-bl6940-553',\n",
       " 'https://columbiasportswear.co.in/trailstorm-mid-waterproof-bl0155-012',\n",
       " 'https://columbiasportswear.co.in/trailstorm-mid-waterproof-bl0155-053',\n",
       " 'https://columbiasportswear.co.in/trailstorm-mid-waterproof-bl0155-616',\n",
       " 'https://columbiasportswear.co.in/columbia-women-black-crestwood-waterproof-bl5372-006',\n",
       " 'https://columbiasportswear.co.in/columbia-women-brown-crestwood-waterproof-bl5372-275',\n",
       " 'https://columbiasportswear.co.in/trailstorm-waterproof-bl0156-053',\n",
       " 'https://columbiasportswear.co.in/trailstorm-waterproof-bl0156-193',\n",
       " 'https://columbiasportswear.co.in/columbia-women-black-strata-trail-mid-wp-yl8651-010',\n",
       " 'https://columbiasportswear.co.in/columbia-women-grey-strata-trail-mid-wp-yl8651-033',\n",
       " 'https://columbiasportswear.co.in/columbia-women-black-strata-trail-mid-wp-yl8651-010',\n",
       " 'https://columbiasportswear.co.in/columbia-women-grey-strata-trail-mid-wp-yl8651-033',\n",
       " 'https://columbiasportswear.co.in/heavenly-omni-heat-bl1661-010',\n",
       " 'NA',\n",
       " 'https://columbiasportswear.co.in/redmond-v2-wp-bl0834-227',\n",
       " 'https://columbiasportswear.co.in/heavenly-shorty-omni-heat-bl1652-010',\n",
       " 'https://columbiasportswear.co.in/columbia-women-black-crestwood-waterproof-bl5372-006',\n",
       " 'https://columbiasportswear.co.in/columbia-women-brown-crestwood-waterproof-bl5372-275',\n",
       " 'NA',\n",
       " 'https://columbiasportswear.co.in/hatana-max-outdry-bl0659-012',\n",
       " 'https://columbiasportswear.co.in/hatana-max-outdry-bl0659-089',\n",
       " 'https://columbiasportswear.co.in/columbia-women-black-hatana-max-outdry-bl0659-010',\n",
       " 'https://columbiasportswear.co.in/columbia-women-brown-hatana-max-outdry-bl0659-271',\n",
       " 'NA',\n",
       " 'https://columbiasportswear.co.in/peakfreak-ii-mid-outdry-bl7573-089',\n",
       " 'https://columbiasportswear.co.in/columbia-women-black-peakfreak-ii-mid-outdry-bl7573-010',\n",
       " 'https://columbiasportswear.co.in/columbia-women-green-peakfreak-ii-mid-outdry-bl7573-302',\n",
       " 'https://columbiasportswear.co.in/peakfreak-ii-mid-outdry-bl7573-089',\n",
       " 'https://columbiasportswear.co.in/columbia-women-black-peakfreak-ii-mid-outdry-bl7573-010',\n",
       " 'https://columbiasportswear.co.in/columbia-women-green-peakfreak-ii-mid-outdry-bl7573-302',\n",
       " 'https://columbiasportswear.co.in/columbia-women-grey-crestwood-mid-waterproof-bl5371-053',\n",
       " 'https://columbiasportswear.co.in/columbia-women-black-red-hills-omni-heat-yl5934-005',\n",
       " 'https://columbiasportswear.co.in/columbia-women-black-red-hills-omni-heat-yl5934-010',\n",
       " 'https://columbiasportswear.co.in/columbia-women-black-red-hills-omni-heat-yl5934-005',\n",
       " 'https://columbiasportswear.co.in/columbia-women-black-red-hills-omni-heat-yl5934-010',\n",
       " 'https://columbiasportswear.co.in/trailstorm-mid-waterproof-bl0155-012',\n",
       " 'https://columbiasportswear.co.in/trailstorm-mid-waterproof-bl0155-053',\n",
       " 'https://columbiasportswear.co.in/trailstorm-mid-waterproof-bl0155-616',\n",
       " 'https://columbiasportswear.co.in/slopeside-peak-luxe-bl5106-279']"
      ]
     },
     "execution_count": 29,
     "metadata": {},
     "output_type": "execute_result"
    }
   ],
   "source": [
    "new_urls"
   ]
  },
  {
   "cell_type": "code",
   "execution_count": 30,
   "id": "4e544594",
   "metadata": {},
   "outputs": [],
   "source": [
    "new_urls = [item for item in new_urls if item != 'NA']"
   ]
  },
  {
   "cell_type": "code",
   "execution_count": 31,
   "id": "aec73e6c",
   "metadata": {},
   "outputs": [
    {
     "data": {
      "text/plain": [
       "225"
      ]
     },
     "execution_count": 31,
     "metadata": {},
     "output_type": "execute_result"
    }
   ],
   "source": [
    "len(new_urls)"
   ]
  },
  {
   "cell_type": "code",
   "execution_count": 22,
   "id": "896634aa",
   "metadata": {},
   "outputs": [
    {
     "data": {
      "text/plain": [
       "97"
      ]
     },
     "execution_count": 22,
     "metadata": {},
     "output_type": "execute_result"
    }
   ],
   "source": [
    "# Removing duplicate urls\n",
    "new_urls = list(dict.fromkeys(new_urls))\n",
    "\n",
    "len(new_urls)"
   ]
  },
  {
   "cell_type": "code",
   "execution_count": 32,
   "id": "db63d6a8",
   "metadata": {
    "scrolled": false
   },
   "outputs": [],
   "source": [
    "name = []\n",
    "colors = []\n",
    "colors_name = []\n",
    "price = []\n",
    "count_sizes = []\n",
    "product_code = []\n",
    "review = []\n",
    "sizes = []\n",
    "star_rating=[]\n",
    "features = []\n",
    "category = []\n",
    "\n",
    "\n",
    "for product in new_urls:\n",
    "    driver.get(product)\n",
    "    \n",
    "    #extracting Brand name\n",
    "    try:\n",
    "        title = driver.find_element(By.XPATH,'//h1[@class=\"product-title\"]')\n",
    "        name.append(title.text)\n",
    "    except NoSuchElementException:\n",
    "        name.append('NA')\n",
    "        \n",
    "    # Extracting Product Code:\n",
    "    try:\n",
    "        code= driver.find_element(By.XPATH,'/html/body/div[4]/div/div/div[1]/div[2]/p[1]')\n",
    "        product_code.append(code.text.split(':')[1])\n",
    "    except NoSuchElementException:\n",
    "        product_code.append(\"NA\")\n",
    "        \n",
    "    #Extracting number of colors\n",
    "    try:\n",
    "        col = driver.find_element(By.XPATH,'//div[@class=\"grop-product-product\"]')\n",
    "        # Extracting number of colors\n",
    "        count = len(col.find_elements(By.TAG_NAME, 'a'))\n",
    "        colors.append(count)\n",
    "    except NoSuchElementException:\n",
    "        colors.append(0)\n",
    "\n",
    "        \n",
    "    #Extracting color name:\n",
    "    try:\n",
    "        col_name = driver.find_element(By.XPATH,'//label[@class=\"control-label-name\"]')\n",
    "        colors_name.append(col_name.text)\n",
    "    except NoSuchElementException:\n",
    "        colors_name.append('NA')\n",
    "        \n",
    "    #Extract Price:\n",
    "    try:\n",
    "        price_tag = driver.find_element(By.XPATH, '//ul[@class=\"list-unstyled price-container\"]')\n",
    "        #the li elements with class \"price-new\" or \"price-old\" inside the ul\n",
    "        new_price_elements = price_tag.find_elements(By.XPATH, './li[@class=\"price-new\"]')\n",
    "        old_price_elements = price_tag.find_elements(By.XPATH, './li[@class=\"price-old\"]')\n",
    "        cost = price_tag.find_element(By.XPATH,'./li/h2')\n",
    "\n",
    "        # Extract prices from \"price-new\" elements if available, else from \"price-old\" elements\n",
    "        if new_price_elements:\n",
    "            price.extend([new_price.text for new_price in new_price_elements])\n",
    "        elif old_price_elements:\n",
    "            price.extend([old_price.text for old_price in old_price_elements])\n",
    "        else:\n",
    "            # If neither \"price-new\" nor \"price-old\" elements are found, append None\n",
    "            price.append(cost.text)\n",
    "\n",
    "    except NoSuchElementException:\n",
    "        price.append(None)\n",
    "    time.sleep(1)\n",
    "    \n",
    "    # Extracting count of sizes\n",
    "    try:\n",
    "        select_size = driver.find_element(By.XPATH, '//div[@class=\"option-main\"]')\n",
    "        count = len(select_size.find_elements(By.XPATH, './/div[@class=\"radio radio-type-button2  \"]'))\n",
    "        count_sizes.append(count)\n",
    "        \n",
    "    except (NoSuchElementException, StaleElementReferenceException):\n",
    "        count_sizes.append('Na')\n",
    "    \n",
    "    #Extract sizes\n",
    "    try:\n",
    "        sizes_avail = select_size.find_elements(By.XPATH, './/div/label[1]')\n",
    "        product_sizes = [size.text for size in sizes_avail]\n",
    "        sizes.append(product_sizes)\n",
    "    \n",
    "    except (NoSuchElementException, StaleElementReferenceException):\n",
    "        sizes.append('NA')\n",
    "    \n",
    "    # Locate the element\n",
    "    element_to_scroll_and_click = driver.find_element(By.XPATH, '//div[@id=\"accordion\"]/div[2]/div/h4/a')\n",
    "    # Scroll to the element\n",
    "    actions = ActionChains(driver)\n",
    "    actions.move_to_element(element_to_scroll_and_click).perform()\n",
    "    element_to_scroll_and_click.click()\n",
    "    time.sleep(5)\n",
    "    \n",
    "    #Extracting Features\n",
    "    try:\n",
    "        table_rows = driver.find_elements(By.XPATH, '//table[@class=\"table\"]/tbody/tr')\n",
    "        for row in table_rows:\n",
    "            label_element = row.find_element(By.XPATH, './/td[@class=\"specification-lable\"]')\n",
    "            if label_element.text.strip() == 'Features':\n",
    "                value_element = row.find_element(By.XPATH, './/td/ul')\n",
    "                features.append(value_element.text.strip())\n",
    "                break\n",
    "        else:\n",
    "            features.append('NA')\n",
    "\n",
    "            # Extracting Category   \n",
    "            label_element = row.find_element(By.XPATH,'.//td[@class=\"specification-lable\"]')\n",
    "            if label_element.text.strip() == 'Gender':\n",
    "                value_element = row.find_element(By.XPATH,'.//td[2]')\n",
    "                category.append(value_element.text.strip())\n",
    "                \n",
    "    except NoSuchElementException:\n",
    "        category.append('NA')\n",
    "    \n",
    "    # extracting Rating:\n",
    "    try:\n",
    "        rating= driver.find_element(By.XPATH,'//div[@class=\"review-innerblock\"]/div[1]')\n",
    "        star_rating.append(rating.text.split('o')[0])\n",
    "    except NoSuchElementException:\n",
    "        star_rating.append('NA')\n",
    "        \n",
    "    # Extracting Review:\n",
    "    try:\n",
    "        totalreview = driver.find_element(By.XPATH,'//span[@class=\"review_total\"]')\n",
    "        review.append(totalreview.text)\n",
    "    except NoSuchElementException:\n",
    "        review.append('NA')"
   ]
  },
  {
   "cell_type": "code",
   "execution_count": 33,
   "id": "e5dfb622",
   "metadata": {},
   "outputs": [
    {
     "data": {
      "text/plain": [
       "(225, 225, 225, 225, 225, 225, 225, 225, 225, 0)"
      ]
     },
     "execution_count": 33,
     "metadata": {},
     "output_type": "execute_result"
    }
   ],
   "source": [
    "len(name),len(colors),len(colors_name),len(price),len(count_sizes),len(product_code),len(sizes),len(star_rating),len(features),len(category)"
   ]
  },
  {
   "cell_type": "code",
   "execution_count": 36,
   "id": "9558ce87",
   "metadata": {},
   "outputs": [],
   "source": [
    "category = []\n",
    "\n",
    "for product in new_urls:\n",
    "    driver.get(product)\n",
    "    \n",
    "    element_to_scroll_and_click = driver.find_element(By.XPATH, '//div[@id=\"accordion\"]/div[2]/div/h4/a')\n",
    "    actions = ActionChains(driver)\n",
    "    actions.move_to_element(element_to_scroll_and_click).perform()\n",
    "    \n",
    "    element_to_scroll_and_click.click()\n",
    "    time.sleep(1)\n",
    "    \n",
    "    table_rows = driver.find_elements(By.XPATH, '//table[@class=\"table\"]/tbody/tr')\n",
    "    for row in table_rows:\n",
    "        label_element = row.find_element(By.XPATH,'.//td[@class=\"specification-lable\"]')\n",
    "        if label_element.text.strip() == 'Gender':\n",
    "            value_element = row.find_element(By.XPATH,'.//td[2]')\n",
    "            category.append(value_element.text.strip())\n",
    "            break\n",
    "    else:\n",
    "        category.append('NA')"
   ]
  },
  {
   "cell_type": "code",
   "execution_count": 37,
   "id": "df325cc1",
   "metadata": {},
   "outputs": [
    {
     "data": {
      "text/plain": [
       "225"
      ]
     },
     "execution_count": 37,
     "metadata": {},
     "output_type": "execute_result"
    }
   ],
   "source": [
    "len(category)"
   ]
  },
  {
   "cell_type": "code",
   "execution_count": 42,
   "id": "2388ded4",
   "metadata": {},
   "outputs": [
    {
     "data": {
      "text/plain": [
       "225"
      ]
     },
     "execution_count": 42,
     "metadata": {},
     "output_type": "execute_result"
    }
   ],
   "source": [
    "comfort = [i.split('\\n')[1] if len(i.split('\\n')) >= 2 else \"NA\" for i in features]\n",
    "len(comfort)"
   ]
  },
  {
   "cell_type": "code",
   "execution_count": 52,
   "id": "202e7988",
   "metadata": {},
   "outputs": [],
   "source": [
    "columbia = pd.DataFrame({\n",
    "    'Shoename':name,\n",
    "    'Category': category,\n",
    "    'No.Of_colors': colors,\n",
    "    'Price' : price,\n",
    "    'Count_of_sizes' : count_sizes,\n",
    "    'Name_ of_colors' : colors_name,\n",
    "    'Product_code' : product_code,\n",
    "    'Review' : review,\n",
    "    'Sizes' : sizes,\n",
    "    'Comfort' : comfort,\n",
    "    'Features' :features,\n",
    "    'star_rating': star_rating\n",
    "})"
   ]
  },
  {
   "cell_type": "code",
   "execution_count": 53,
   "id": "64a4b193",
   "metadata": {},
   "outputs": [],
   "source": [
    "#Saving as Csv\n",
    "columbia.to_csv('columbia_All_Product.csv',index=False)"
   ]
  },
  {
   "cell_type": "code",
   "execution_count": 47,
   "id": "a36f30a7",
   "metadata": {},
   "outputs": [],
   "source": [
    "brand = [\"Columbia\" for _ in range(225)]"
   ]
  },
  {
   "cell_type": "markdown",
   "id": "011537ea",
   "metadata": {},
   "source": [
    "### Creating Table 1"
   ]
  },
  {
   "cell_type": "code",
   "execution_count": 50,
   "id": "13a6b64d",
   "metadata": {},
   "outputs": [],
   "source": [
    "colombia_Table1 = pd.DataFrame({\n",
    "    'Brand': brand,\n",
    "    'Shoename': name,\n",
    "    'Category' : category,\n",
    "    'No.Of_colors': colors,\n",
    "    'Price' : price,   \n",
    "})"
   ]
  },
  {
   "cell_type": "code",
   "execution_count": 51,
   "id": "c69e8c2f",
   "metadata": {},
   "outputs": [],
   "source": [
    "colombia_Table1.to_csv('colombia_Table1.csv',index=False)"
   ]
  },
  {
   "cell_type": "markdown",
   "id": "f912de52",
   "metadata": {},
   "source": [
    "### Creating Table 2"
   ]
  },
  {
   "cell_type": "code",
   "execution_count": 54,
   "id": "14ce5802",
   "metadata": {},
   "outputs": [],
   "source": [
    "colombia_Table2 = pd.DataFrame({\n",
    "    'Count_of_sizes' : count_sizes,\n",
    "    'Name_ of_colors' : colors_name,\n",
    "    'Product_code' : product_code,\n",
    "})\n"
   ]
  },
  {
   "cell_type": "code",
   "execution_count": 55,
   "id": "6a801721",
   "metadata": {},
   "outputs": [],
   "source": [
    "colombia_Table2.to_csv('colombia_Table2.csv',index=False)"
   ]
  },
  {
   "cell_type": "code",
   "execution_count": 56,
   "id": "942e6abc",
   "metadata": {},
   "outputs": [],
   "source": [
    "colombia_Table3 =pd.DataFrame({\n",
    "    'Review' : review,\n",
    "    'Size': sizes,\n",
    "    'Comfort' : comfort,\n",
    "    'Features' :features,\n",
    "    'star_rating': star_rating   \n",
    "})\n"
   ]
  },
  {
   "cell_type": "code",
   "execution_count": 57,
   "id": "16e2f842",
   "metadata": {},
   "outputs": [],
   "source": [
    "colombia_Table3.to_csv('colombia_Table3.csv',index=False)"
   ]
  },
  {
   "cell_type": "code",
   "execution_count": null,
   "id": "2e1d4c88",
   "metadata": {},
   "outputs": [],
   "source": []
  }
 ],
 "metadata": {
  "kernelspec": {
   "display_name": "Python 3 (ipykernel)",
   "language": "python",
   "name": "python3"
  },
  "language_info": {
   "codemirror_mode": {
    "name": "ipython",
    "version": 3
   },
   "file_extension": ".py",
   "mimetype": "text/x-python",
   "name": "python",
   "nbconvert_exporter": "python",
   "pygments_lexer": "ipython3",
   "version": "3.11.4"
  }
 },
 "nbformat": 4,
 "nbformat_minor": 5
}
